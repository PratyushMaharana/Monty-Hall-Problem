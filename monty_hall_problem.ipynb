{
  "nbformat": 4,
  "nbformat_minor": 0,
  "metadata": {
    "colab": {
      "provenance": [],
      "authorship_tag": "ABX9TyMEAh7vIvxOtj0XW3QEBtS7",
      "include_colab_link": true
    },
    "kernelspec": {
      "name": "python3",
      "display_name": "Python 3"
    },
    "language_info": {
      "name": "python"
    }
  },
  "cells": [
    {
      "cell_type": "markdown",
      "metadata": {
        "id": "view-in-github",
        "colab_type": "text"
      },
      "source": [
        "<a href=\"https://colab.research.google.com/github/PratyushMaharana/Monty-Hall-Problem/blob/main/monty_hall_problem.ipynb\" target=\"_parent\"><img src=\"https://colab.research.google.com/assets/colab-badge.svg\" alt=\"Open In Colab\"/></a>"
      ]
    },
    {
      "cell_type": "markdown",
      "source": [
        "we are taking random choice out of 3 doors"
      ],
      "metadata": {
        "id": "YeO4saZI6gAs"
      }
    },
    {
      "cell_type": "code",
      "execution_count": null,
      "metadata": {
        "colab": {
          "base_uri": "https://localhost:8080/"
        },
        "id": "V6n1rKqU2_wu",
        "outputId": "79607544-31c8-40c1-aeea-0fb4d5e85fda"
      },
      "outputs": [
        {
          "output_type": "stream",
          "name": "stdout",
          "text": [
            "[1, 0, 0]\n"
          ]
        }
      ],
      "source": [
        "import random\n",
        "doors = [0,0,0]\n",
        "doors[random.randint(0,2)]=1\n",
        "\n",
        "print(doors)"
      ]
    },
    {
      "cell_type": "code",
      "source": [
        "import random\n",
        "\n",
        "doors = [0,0,0]\n",
        "doors[random.randint(0,2)]=1\n",
        "\n",
        "print(doors)\n",
        "first_choice = doors.pop(random.randint(0,2))\n",
        "print(\n",
        "    f\"first choice door is {first_choice}.\\n\"\n",
        "    f\"remaining doors are {doors}\"\n",
        ")"
      ],
      "metadata": {
        "colab": {
          "base_uri": "https://localhost:8080/"
        },
        "id": "xkUyBVr23qrp",
        "outputId": "bca15522-7cb9-45c8-ce2c-be88e9c58529"
      },
      "execution_count": null,
      "outputs": [
        {
          "output_type": "stream",
          "name": "stdout",
          "text": [
            "[1, 0, 0]\n",
            "first choice door is 0.\n",
            "remaining doors are [1, 0]\n"
          ]
        }
      ]
    },
    {
      "cell_type": "code",
      "source": [
        "import random\n",
        "\n",
        "doors = [0,0,0]\n",
        "doors[random.randint(0,2)]=1\n",
        "\n",
        "print(doors)\n",
        "first_choice = doors.pop(random.randint(0,2))\n",
        "if doors[0] == 0:\n",
        "  doors.pop(0)\n",
        "else:\n",
        "  doors.pop(1)\n"
      ],
      "metadata": {
        "colab": {
          "base_uri": "https://localhost:8080/"
        },
        "id": "AdIxN1Xa4hXF",
        "outputId": "92c467d9-69a3-4132-90e8-dbab86279d60"
      },
      "execution_count": null,
      "outputs": [
        {
          "output_type": "stream",
          "name": "stdout",
          "text": [
            "[1, 0, 0]\n"
          ]
        }
      ]
    },
    {
      "cell_type": "code",
      "source": [
        "import random\n",
        "repeats = 1_000_000\n",
        "\n",
        "switch_results=[]\n",
        "keep_results=[]\n",
        "\n",
        "for _ in range(repeats):\n",
        "  doors = [0,0,0]\n",
        "  doors[random.randint(0,2)]=1\n",
        "  first_choice = doors.pop(random.randint(0,2))\n",
        "  if doors[0]==0:\n",
        "    doors.pop(0)\n",
        "  else:\n",
        "    doors.pop(1)\n",
        "\n",
        "  keep_results.append(first_choice)\n",
        "  switch_results.append(doors[0])\n",
        "print(\n",
        "    f\"the success rate when switching is \"\n",
        "    f\"{sum(switch_results) / len(switch_results):.3%}\"\n",
        ")\n",
        "\n",
        "print(\n",
        "    f\"the success rate when keeping is \"\n",
        "    f\"{sum(keep_results) / len(keep_results):.3%}\"\n",
        ")"
      ],
      "metadata": {
        "colab": {
          "base_uri": "https://localhost:8080/"
        },
        "id": "0z0x2UTZ61vM",
        "outputId": "c3565d5b-1e40-462c-a177-f19932ae2f68"
      },
      "execution_count": null,
      "outputs": [
        {
          "output_type": "stream",
          "name": "stdout",
          "text": [
            "the success rate when switching is 66.668%\n",
            "the success rate when switching is 33.332%\n"
          ]
        }
      ]
    },
    {
      "cell_type": "markdown",
      "source": [
        "***stick this code in a function and time it using the timeit module***"
      ],
      "metadata": {
        "id": "6W2ne8sz-gAY"
      }
    },
    {
      "cell_type": "code",
      "source": [
        "import random\n",
        "import timeit\n",
        "def solve_monty_hall_version_1():\n",
        "  repeats = 1000000\n",
        "  switch_results=[]\n",
        "  keep_results=[]\n",
        "\n",
        "  for _ in range(repeats):\n",
        "      doors = [0,0,0]\n",
        "      doors[random.randint(0,2)]=1\n",
        "      first_choice = doors.pop(random.randint(0,2))\n",
        "      if doors[0]==0:\n",
        "         doors.pop(0)\n",
        "      else:\n",
        "         doors.pop(1)\n",
        "\n",
        "      keep_results.append(first_choice)\n",
        "      switch_results.append(doors[0])\n",
        "  print(\n",
        "      f\"the success rate when switching is \"\n",
        "      f\"{sum(switch_results) / len(switch_results):.3%}\"\n",
        "  )\n",
        "\n",
        "  print(\n",
        "      f\"the success rate when keeping is \"\n",
        "      f\"{sum(keep_results) / len(keep_results):.3%}\"\n",
        "  )\n",
        "print(\n",
        "    timeit.timeit(\n",
        "        \"solve_monty_hall_version_1()\",\n",
        "        globals = globals(),\n",
        "        number=10,\n",
        "    )\n",
        ")\n"
      ],
      "metadata": {
        "colab": {
          "base_uri": "https://localhost:8080/"
        },
        "id": "jXYZuvQL8lsS",
        "outputId": "86463b13-ccd2-4836-af69-b294de16f033"
      },
      "execution_count": null,
      "outputs": [
        {
          "output_type": "stream",
          "name": "stdout",
          "text": [
            "the success rate when switching is 66.663%\n",
            "the success rate when keeping is 33.337%\n",
            "the success rate when switching is 66.682%\n",
            "the success rate when keeping is 33.318%\n",
            "the success rate when switching is 66.641%\n",
            "the success rate when keeping is 33.359%\n",
            "the success rate when switching is 66.671%\n",
            "the success rate when keeping is 33.329%\n",
            "the success rate when switching is 66.726%\n",
            "the success rate when keeping is 33.274%\n",
            "the success rate when switching is 66.721%\n",
            "the success rate when keeping is 33.279%\n",
            "the success rate when switching is 66.728%\n",
            "the success rate when keeping is 33.272%\n",
            "the success rate when switching is 66.734%\n",
            "the success rate when keeping is 33.266%\n",
            "the success rate when switching is 66.633%\n",
            "the success rate when keeping is 33.367%\n",
            "the success rate when switching is 66.679%\n",
            "the success rate when keeping is 33.321%\n",
            "13.883508220999829\n"
          ]
        }
      ]
    },
    {
      "cell_type": "markdown",
      "source": [
        "Using Numpy\n",
        "\n",
        "start creating a 10*3 array full of 0s using np.zeroes() and replace the first column with 1's for now:"
      ],
      "metadata": {
        "id": "W4R0jmLwCxlQ"
      }
    },
    {
      "cell_type": "code",
      "source": [
        "import numpy as np\n",
        "repeats = 10\n",
        "doors = np.zeros((repeats,3))\n",
        "doors[:,0]=1\n",
        "print(doors)"
      ],
      "metadata": {
        "id": "OnpVrXbo-NDt",
        "colab": {
          "base_uri": "https://localhost:8080/"
        },
        "outputId": "1d854fef-7ac6-4b8e-940b-7799adbaf082"
      },
      "execution_count": 2,
      "outputs": [
        {
          "output_type": "stream",
          "name": "stdout",
          "text": [
            "[[1. 0. 0.]\n",
            " [1. 0. 0.]\n",
            " [1. 0. 0.]\n",
            " [1. 0. 0.]\n",
            " [1. 0. 0.]\n",
            " [1. 0. 0.]\n",
            " [1. 0. 0.]\n",
            " [1. 0. 0.]\n",
            " [1. 0. 0.]\n",
            " [1. 0. 0.]]\n"
          ]
        }
      ]
    },
    {
      "cell_type": "code",
      "source": [
        "import numpy as np\n",
        "repeats = 10\n",
        "doors = np.zeros((repeats,3))\n",
        "doors[:,0]=1\n",
        "rng=np.random.default_rng()\n",
        "rng.permuted(doors,axis=1,out=doors)\n",
        "doors[:,1:].sort()\n",
        "print(doors)"
      ],
      "metadata": {
        "colab": {
          "base_uri": "https://localhost:8080/"
        },
        "id": "GDLg2hyh8iDl",
        "outputId": "191bbf9e-fa5b-482e-f4ca-0de523d95224"
      },
      "execution_count": 3,
      "outputs": [
        {
          "output_type": "stream",
          "name": "stdout",
          "text": [
            "[[1. 0. 0.]\n",
            " [1. 0. 0.]\n",
            " [1. 0. 0.]\n",
            " [0. 0. 1.]\n",
            " [0. 0. 1.]\n",
            " [0. 0. 1.]\n",
            " [0. 0. 1.]\n",
            " [0. 0. 1.]\n",
            " [1. 0. 0.]\n",
            " [0. 0. 1.]]\n"
          ]
        }
      ]
    },
    {
      "cell_type": "code",
      "source": [
        "import numpy as np\n",
        "repeats = 1_000_000\n",
        "\n",
        "doors = np.zeros((repeats,3))\n",
        "doors[:,0]=1\n",
        "\n",
        "rng=np.random.default_rng()\n",
        "rng.permuted(doors,axis=1,out=doors)\n",
        "\n",
        "doors[:,1:].sort()\n",
        "\n",
        "means=doors.mean(axis=0)\n",
        "\n",
        "print(\n",
        "    f\"the success rate when switching is\"\n",
        "    f\"{means[2]:.3%}\"\n",
        ")\n",
        "\n",
        "print(\n",
        "    f\"the success rate when keeping is\"\n",
        "    f\"{means[0]:.3%}\"\n",
        ")\n"
      ],
      "metadata": {
        "colab": {
          "base_uri": "https://localhost:8080/"
        },
        "id": "jtL1h5Z59B3n",
        "outputId": "7b2726ba-9cd0-48bc-f46a-94a3ec8a52d6"
      },
      "execution_count": 4,
      "outputs": [
        {
          "output_type": "stream",
          "name": "stdout",
          "text": [
            "the success rate when switching is66.757%\n",
            "the success rate when keeping is33.243%\n"
          ]
        }
      ]
    },
    {
      "cell_type": "code",
      "source": [
        "import timeit\n",
        "import numpy as np\n",
        "def solve_monty_hall_version_3_numpy():\n",
        "    repeats = 1_000_000\n",
        "    rng = np.random.default_rng()\n",
        "    car_positions = rng.integers(0, 3, repeats)\n",
        "    initial_choices = rng.integers(0, 3, repeats)\n",
        "    switch_wins = np.mean(car_positions != initial_choices)\n",
        "    keep_wins = np.mean(car_positions == initial_choices)\n",
        "    print(\n",
        "        f\"The success rate when switching is \"\n",
        "        f\"{switch_wins:.3%}\"\n",
        "    )\n",
        "    print(\n",
        "        f\"The success rate when keeping is \"\n",
        "        f\"{keep_wins:.3%}\"\n",
        "    )\n",
        "print(\n",
        "    timeit.timeit(\n",
        "        \"solve_monty_hall_version_3_numpy()\",\n",
        "        globals=globals(),\n",
        "        number=10,\n",
        "    )\n",
        ")"
      ],
      "metadata": {
        "colab": {
          "base_uri": "https://localhost:8080/"
        },
        "id": "uNjvl20x-EnD",
        "outputId": "c69c854b-8a4f-4bce-a696-4c1c47c9ab7a"
      },
      "execution_count": 6,
      "outputs": [
        {
          "output_type": "stream",
          "name": "stdout",
          "text": [
            "The success rate when switching is 66.616%\n",
            "The success rate when keeping is 33.384%\n",
            "The success rate when switching is 66.643%\n",
            "The success rate when keeping is 33.357%\n",
            "The success rate when switching is 66.628%\n",
            "The success rate when keeping is 33.372%\n",
            "The success rate when switching is 66.589%\n",
            "The success rate when keeping is 33.411%\n",
            "The success rate when switching is 66.692%\n",
            "The success rate when keeping is 33.308%\n",
            "The success rate when switching is 66.653%\n",
            "The success rate when keeping is 33.347%\n",
            "The success rate when switching is 66.626%\n",
            "The success rate when keeping is 33.374%\n",
            "The success rate when switching is 66.681%\n",
            "The success rate when keeping is 33.319%\n",
            "The success rate when switching is 66.727%\n",
            "The success rate when keeping is 33.273%\n",
            "The success rate when switching is 66.598%\n",
            "The success rate when keeping is 33.402%\n",
            "0.2483210959999269\n"
          ]
        }
      ]
    }
  ]
}